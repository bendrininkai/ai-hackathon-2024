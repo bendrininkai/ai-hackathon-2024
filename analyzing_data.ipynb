{
 "cells": [
  {
   "cell_type": "code",
   "execution_count": null,
   "metadata": {},
   "outputs": [],
   "source": [
    "import pandas as pd\n",
    "import numpy as np\n",
    "from sklearn.model_selection import train_test_split\n",
    "from sklearn.preprocessing import OneHotEncoder\n",
    "from sklearn.ensemble import RandomForestRegressor\n",
    "from sklearn.metrics import mean_squared_error\n",
    "\n",
    "import plotly.express as px"
   ]
  },
  {
   "cell_type": "code",
   "execution_count": null,
   "metadata": {},
   "outputs": [],
   "source": [
    "train_df = pd.read_csv('/workspaces/mpo-ab-test-overview/hacketon/data/train.csv')\n",
    "test_df = pd.read_csv('/workspaces/mpo-ab-test-overview/hacketon/data/test.csv')"
   ]
  },
  {
   "cell_type": "code",
   "execution_count": null,
   "metadata": {},
   "outputs": [],
   "source": [
    "train_df.head(5)"
   ]
  },
  {
   "cell_type": "code",
   "execution_count": null,
   "metadata": {},
   "outputs": [],
   "source": [
    "data = train_df[train_df['as_of_date_id']>=70]"
   ]
  },
  {
   "cell_type": "code",
   "execution_count": null,
   "metadata": {},
   "outputs": [],
   "source": [
    "data[data.duplicated()]"
   ]
  },
  {
   "cell_type": "code",
   "execution_count": null,
   "metadata": {},
   "outputs": [],
   "source": [
    "# 1. Sum of all population per period of time\n",
    "population_per_period = data.groupby('as_of_date_id')['count'].sum().reset_index()\n",
    "fig1 = px.line(population_per_period, x='as_of_date_id', y='count',\n",
    "               title='Sum of Population per Period of Time',\n",
    "               labels={'as_of_date_id': 'Time Period', 'count': 'Total Population'})\n",
    "fig1.show()"
   ]
  },
  {
   "cell_type": "code",
   "execution_count": null,
   "metadata": {},
   "outputs": [],
   "source": [
    "# 2. Sum of population per each district_id\n",
    "population_per_district_time = data.groupby(['as_of_date_id', 'district_id'])['count'].sum().reset_index()\n",
    "fig2 = px.line(population_per_district_time, x='as_of_date_id', y='count', color='district_id',\n",
    "               title='Sum of Population per District over Time',\n",
    "               labels={'as_of_date_id': 'Time Period', 'count': 'Total Population', 'district_id': 'District ID'})\n",
    "fig2.show()"
   ]
  }
 ],
 "metadata": {
  "kernelspec": {
   "display_name": ".venv",
   "language": "python",
   "name": "python3"
  },
  "language_info": {
   "codemirror_mode": {
    "name": "ipython",
    "version": 3
   },
   "file_extension": ".py",
   "mimetype": "text/x-python",
   "name": "python",
   "nbconvert_exporter": "python",
   "pygments_lexer": "ipython3",
   "version": "3.8.10"
  }
 },
 "nbformat": 4,
 "nbformat_minor": 2
}

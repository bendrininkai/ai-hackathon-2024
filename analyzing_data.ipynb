{
 "cells": [
  {
   "cell_type": "code",
   "execution_count": null,
   "metadata": {},
   "outputs": [],
   "source": [
    "import pandas as pd\n",
    "import numpy as np\n",
    "from sklearn.model_selection import train_test_split\n",
    "from sklearn.preprocessing import OneHotEncoder\n",
    "from sklearn.ensemble import RandomForestRegressor\n",
    "from sklearn.metrics import mean_squared_error\n",
    "import plotly.express as px\n",
    "import plotly.graph_objects as go\n",
    "from ipywidgets import Dropdown, VBox, HBox, Button, Output\n",
    "from IPython.display import display"
   ]
  },
  {
   "cell_type": "code",
   "execution_count": null,
   "metadata": {},
   "outputs": [],
   "source": [
    "train_df = pd.read_csv('data/train.csv')\n",
    "test_df = pd.read_csv('data/test.csv')"
   ]
  },
  {
   "cell_type": "code",
   "execution_count": null,
   "metadata": {},
   "outputs": [],
   "source": [
    "train_df.head(5)"
   ]
  },
  {
   "cell_type": "code",
   "execution_count": null,
   "metadata": {},
   "outputs": [],
   "source": [
    "# data = train_df[train_df['as_of_date_id']>=70]\n",
    "data = train_df.copy()"
   ]
  },
  {
   "cell_type": "code",
   "execution_count": null,
   "metadata": {},
   "outputs": [],
   "source": [
    "data = data[data['as_of_date_id'] >= 70].reset_index(drop=True)"
   ]
  },
  {
   "cell_type": "code",
   "execution_count": null,
   "metadata": {},
   "outputs": [],
   "source": [
    "# 1. Sum of all population per period of time\n",
    "population_per_period = data.groupby('as_of_date_id')['count'].sum().reset_index()\n",
    "fig1 = px.line(population_per_period, x='as_of_date_id', y='count', markers=True,\n",
    "               title='Sum of Population per Period of Time',\n",
    "               labels={'as_of_date_id': 'Time Period', 'count': 'Total Population'})\n",
    "fig1.show()"
   ]
  },
  {
   "cell_type": "code",
   "execution_count": null,
   "metadata": {},
   "outputs": [],
   "source": [
    "# 2. Sum of population per each district_id\n",
    "population_per_district_time = data.groupby(['as_of_date_id', 'district_id'])['count'].sum().reset_index()\n",
    "fig2 = px.line(population_per_district_time, x='as_of_date_id', y='count', color='district_id', markers=True,\n",
    "               title='Sum of Population per District over Time',\n",
    "               labels={'as_of_date_id': 'Time Period', 'count': 'Total Population', 'district_id': 'District ID'})\n",
    "fig2.show()"
   ]
  },
  {
   "cell_type": "code",
   "execution_count": null,
   "metadata": {},
   "outputs": [],
   "source": [
    "import plotly.graph_objects as go\n",
    "\n",
    "def plot_individual_results(data, district, age_bin, gender):\n",
    "    train_subset = data[(data['district_id'] == district) & \n",
    "                              (data['age_bin_id'] == age_bin) & \n",
    "                              (data['gender_id'] == gender)]\n",
    "    \n",
    "    fig = go.Figure()\n",
    "    \n",
    "    # Add training data\n",
    "    fig.add_trace(go.Scatter(\n",
    "        x=train_subset['as_of_date_id'], \n",
    "        y=train_subset['count'], \n",
    "        mode='lines+markers', \n",
    "        name='Training Data',\n",
    "        line=dict(color='blue')\n",
    "    ))\n",
    "    \n",
    "    fig.update_layout(\n",
    "        title=f'Population Count per Period of Time (District: {district}, Age Bin: {age_bin}, Gender: {gender})',\n",
    "        xaxis_title='Time Period',\n",
    "        yaxis_title='Population Count',\n",
    "        legend_title='Dataset'\n",
    "    )\n",
    "    \n",
    "    return fig"
   ]
  },
  {
   "cell_type": "code",
   "execution_count": null,
   "metadata": {},
   "outputs": [],
   "source": [
    "# Create a dropdown for each combination to view individual plots\n",
    "unique_combinations = data[['district_id', 'age_bin_id', 'gender_id']].drop_duplicates()\n",
    "\n",
    "# Convert district_id to integers for correct sorting, then sort by district_id, age_bin_id, and gender_id\n",
    "unique_combinations['district_id_int'] = unique_combinations['district_id'].astype(int)\n",
    "unique_combinations = unique_combinations.sort_values(by=['district_id_int', 'age_bin_id', 'gender_id'])\n",
    "\n",
    "# Create the options for the dropdown\n",
    "options = [(f'District: {row[\"district_id\"]}, Age Bin: {row[\"age_bin_id\"]}, Gender: {row[\"gender_id\"]}', \n",
    "            (row[\"district_id\"], row[\"age_bin_id\"], row[\"gender_id\"])) for _, row in unique_combinations.iterrows()]\n",
    "\n",
    "# Drop the temporary integer column\n",
    "unique_combinations = unique_combinations.drop(columns=['district_id_int'])\n",
    "\n",
    "\n",
    "# Initialize the figure widget\n",
    "fig = go.FigureWidget()\n",
    "\n",
    "def update_plot(change):\n",
    "    district, age_bin, gender = change['new']\n",
    "    new_fig = plot_individual_results(data, district, age_bin, gender)\n",
    "    \n",
    "    with fig.batch_update():\n",
    "        fig.data = []\n",
    "        for trace in new_fig.data:\n",
    "            fig.add_trace(trace)\n",
    "        fig.layout = new_fig.layout\n",
    "\n",
    "# Create the dropdown widget\n",
    "dropdown = Dropdown(options=options, description='Select Group:')\n",
    "dropdown.observe(update_plot, names='value')\n",
    "\n",
    "# Create 'Back' and 'Next' buttons\n",
    "back_button = Button(description='Back')\n",
    "next_button = Button(description='Next')\n",
    "\n",
    "# Function to handle 'Back' button click\n",
    "def on_back_button_clicked(b):\n",
    "    current_index = [i[1] for i in options].index(dropdown.value)\n",
    "    if current_index > 0:\n",
    "        dropdown.value = options[current_index - 1][1]\n",
    "\n",
    "# Function to handle 'Next' button click\n",
    "def on_next_button_clicked(b):\n",
    "    current_index = [i[1] for i in options].index(dropdown.value)\n",
    "    if current_index < len(options) - 1:\n",
    "        dropdown.value = options[current_index + 1][1]\n",
    "\n",
    "back_button.on_click(on_back_button_clicked)\n",
    "next_button.on_click(on_next_button_clicked)\n",
    "\n",
    "# Display the dropdown, buttons, and the plot output\n",
    "display(VBox([HBox([back_button, next_button, dropdown]), fig]))\n",
    "\n",
    "# Initialize with the first combination\n",
    "dropdown.value = options[0][1]\n",
    "update_plot({'new': options[0][1]})"
   ]
  },
  {
   "cell_type": "code",
   "execution_count": null,
   "metadata": {},
   "outputs": [],
   "source": [
    "# 2. Sum of population per each gender in district 7 over time\n",
    "district_7_data = data[data['district_id'] == 6]\n",
    "population_per_gender_time = district_7_data.groupby(['as_of_date_id', 'gender_id'])['count'].sum().reset_index()\n",
    "\n",
    "fig2 = px.line(population_per_gender_time, x='as_of_date_id', y='count', color='gender_id', markers=True,\n",
    "               title='Sum of Population per Gender in District 7 over Time',\n",
    "               labels={'as_of_date_id': 'Time Period', 'count': 'Total Population', 'gender_id': 'Gender ID'})\n",
    "\n",
    "fig2.show()\n"
   ]
  },
  {
   "cell_type": "code",
   "execution_count": null,
   "metadata": {},
   "outputs": [],
   "source": [
    "# Aggregate the data by district, age bin, and gender\n",
    "aggregated_data = data.groupby(['district_id', 'age_bin_id', 'gender_id']).agg({'count': 'sum'}).reset_index()\n",
    "\n",
    "# Sort the unique combinations by the aggregated sum\n",
    "sorted_aggregated_data = aggregated_data.sort_values(by='count', ascending=False)\n",
    "\n",
    "# Display all rows\n",
    "pd.set_option('display.max_rows', None)\n",
    "sorted_aggregated_data"
   ]
  }
 ],
 "metadata": {
  "kernelspec": {
   "display_name": ".venv",
   "language": "python",
   "name": "python3"
  },
  "language_info": {
   "codemirror_mode": {
    "name": "ipython",
    "version": 3
   },
   "file_extension": ".py",
   "mimetype": "text/x-python",
   "name": "python",
   "nbconvert_exporter": "python",
   "pygments_lexer": "ipython3",
   "version": "3.8.10"
  }
 },
 "nbformat": 4,
 "nbformat_minor": 2
}
